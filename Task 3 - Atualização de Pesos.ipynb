{
 "cells": [
  {
   "cell_type": "markdown",
   "metadata": {},
   "source": [
    "# Gradiente Descendente\n",
    "\n",
    "O gradiente descendente é um algoritmo de otimização que usa as derivadas da função objetivo\n",
    "para encontrar o ponto com maior inclinação. No processo, as variáveis a otimizar são deslocadas\n",
    "em uma direção negativa o qual reduzirá o valor da função objetivo.\n",
    "\n",
    "Algoritmo geral para atualizar os pesos com gradiente descendente:\n",
    "<p>\n",
    "<img src='RNA-Gradiente.png' /><br>\n",
    "</p>"
   ]
  },
  {
   "cell_type": "markdown",
   "metadata": {},
   "source": [
    "## Vamos implementar o algoritmo do Gradiente Descendente!\n",
    "#### Importando a biblioteca"
   ]
  },
  {
   "cell_type": "code",
   "execution_count": 49,
   "metadata": {},
   "outputs": [],
   "source": [
    "import numpy as np"
   ]
  },
  {
   "cell_type": "markdown",
   "metadata": {},
   "source": [
    "#### Função do cáculo da sigmóide"
   ]
  },
  {
   "cell_type": "code",
   "execution_count": 50,
   "metadata": {},
   "outputs": [],
   "source": [
    "def sigmoid(x):\n",
    "    return 1/(1+np.exp(-x))"
   ]
  },
  {
   "cell_type": "markdown",
   "metadata": {},
   "source": [
    "#### Derivada da função sigmóide"
   ]
  },
  {
   "cell_type": "code",
   "execution_count": 51,
   "metadata": {},
   "outputs": [],
   "source": [
    "def sigmoid_prime(x):\n",
    "    return sigmoid(x) * (1 - sigmoid(x))"
   ]
  },
  {
   "cell_type": "markdown",
   "metadata": {},
   "source": [
    "#### Vetor dos valores de entrada e saídas"
   ]
  },
  {
   "cell_type": "code",
   "execution_count": 52,
   "metadata": {},
   "outputs": [],
   "source": [
    "x = np.array([1, 2, 3, 4])\n",
    "y = np.array(0.5)\n",
    "b= 0.5"
   ]
  },
  {
   "cell_type": "markdown",
   "metadata": {},
   "source": [
    "#### Pesos iniciais das ligações sinápticas \n",
    "Nota: Inicializados aleatóriamente"
   ]
  },
  {
   "cell_type": "code",
   "execution_count": 53,
   "metadata": {},
   "outputs": [],
   "source": [
    "w = np.array([0.5, -0.5, 0.3, 0.1])"
   ]
  },
  {
   "cell_type": "markdown",
   "metadata": {},
   "source": [
    "#### Taxa de Aprendizagem"
   ]
  },
  {
   "cell_type": "code",
   "execution_count": 54,
   "metadata": {},
   "outputs": [],
   "source": [
    "learnrate = 0.5"
   ]
  },
  {
   "cell_type": "markdown",
   "metadata": {},
   "source": [
    "### Calcule um degrau de descida gradiente para cada peso"
   ]
  },
  {
   "cell_type": "markdown",
   "metadata": {},
   "source": [
    "#### Critério de parada\n",
    "* **Epochs**: Número de Épocas\n",
    "* **MinError**: Erro mínimo estipulado\n"
   ]
  },
  {
   "cell_type": "code",
   "execution_count": 55,
   "metadata": {},
   "outputs": [
    {
     "output_type": "stream",
     "name": "stdout",
     "text": [
      "Época 0: -0.1456563062257954\nÉpoca 1: -0.025014596054283245\nÉpoca 2: -0.0016430040204060692\nÉpoca 3: -0.00010271029560759981\nÉpoca 4: -6.419398983159574e-06\nÉpoca 5: -4.01212437717291e-07\nÉpoca 6: -2.50757774544752e-08\nÉpoca 7: -1.5672360076379732e-09\nÉpoca 8: -9.795231292741846e-11\nÉpoca 9: -6.121991802388038e-12\nÉpoca 10: -3.8269387658829146e-13\nÉpoca 11: -2.3869795029440866e-14\nÉpoca 12: -1.4432899320127035e-15\nÉpoca 13: -1.1102230246251565e-16\nÉpoca 14: 0.0\nÉpoca 15: 0.0\nÉpoca 16: 0.0\nÉpoca 17: 0.0\nÉpoca 18: 0.0\nÉpoca 19: 0.0\n"
     ]
    }
   ],
   "source": [
    "#Número de Épocas\n",
    "epochs= 20\n",
    "\n",
    "#Inicilizando del_w\n",
    "del_w= 0\n",
    "b = -0.2\n",
    "for e in range(epochs):\n",
    "    # TODO: Calcule a combinação linear de entradas e pesos sinápticos\n",
    "    h = np.dot(x, w)+b # dot faz o somatório de produtos\n",
    "\n",
    "    # TODO: Calcule a saída da Rede Neural\n",
    "    output = sigmoid(h)\n",
    "\n",
    "    # TODO: Calculate error of neural network\n",
    "    error = y - output\n",
    "\n",
    "    # TODO: Calcule o termo de erro\n",
    "    error_term = error * sigmoid_prime(h)\n",
    "\n",
    "    # TODO: Calcule a variação do peso\n",
    "    del_w = learnrate * error_term * x\n",
    "\n",
    "    # TODO: Atualização do Peso\n",
    "    w = w + del_w\n",
    "\n",
    "    print(f'Época {e}: {error}')\n"
   ]
  },
  {
   "cell_type": "code",
   "execution_count": 56,
   "metadata": {},
   "outputs": [
    {
     "output_type": "stream",
     "name": "stdout",
     "text": [
      "Saída da Rede Neural: 0.5\nErro: 0.0\n"
     ]
    }
   ],
   "source": [
    "print(f'Saída da Rede Neural: {output}')\n",
    "print(f'Erro: {error}')\n"
   ]
  },
  {
   "cell_type": "code",
   "execution_count": null,
   "metadata": {},
   "outputs": [],
   "source": []
  }
 ],
 "metadata": {
  "kernelspec": {
   "name": "python3",
   "display_name": "Python 3.8.8 64-bit ('base': conda)"
  },
  "language_info": {
   "codemirror_mode": {
    "name": "ipython",
    "version": 3
   },
   "file_extension": ".py",
   "mimetype": "text/x-python",
   "name": "python",
   "nbconvert_exporter": "python",
   "pygments_lexer": "ipython3",
   "version": "3.8.8"
  },
  "interpreter": {
   "hash": "bc48d87d6812adbcc106e5ded0c77ce0df22fce60d8efcb9ad28347fde49cea0"
  }
 },
 "nbformat": 4,
 "nbformat_minor": 2
}