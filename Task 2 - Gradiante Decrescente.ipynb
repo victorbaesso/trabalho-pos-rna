{
 "cells": [
  {
   "cell_type": "markdown",
   "metadata": {},
   "source": [
    "# Gradiente Descendente\n",
    "\n",
    "O gradiente descendente é um algoritmo de otimização que usa as derivadas da função objetivo\n",
    "para encontrar o ponto com maior inclinação. No processo, as variáveis a otimizar são deslocadas\n",
    "em uma direção negativa o qual reduzirá o valor da função objetivo.\n",
    "\n",
    "Algoritmo geral para atualizar os pesos com gradiente descendente:\n",
    "<p>\n",
    "<img src='RNA-Gradiente.png' /><br>\n",
    "</p>"
   ]
  },
  {
   "cell_type": "markdown",
   "metadata": {},
   "source": [
    "## Vamos implementar o algoritmo do Gradiente Descendente!\n",
    "#### Importando a biblioteca"
   ]
  },
  {
   "cell_type": "code",
   "execution_count": 8,
   "metadata": {},
   "outputs": [],
   "source": [
    "import numpy as np"
   ]
  },
  {
   "cell_type": "markdown",
   "metadata": {},
   "source": [
    "#### Função do cáculo da sigmóide"
   ]
  },
  {
   "cell_type": "code",
   "execution_count": 9,
   "metadata": {},
   "outputs": [],
   "source": [
    "def sigmoid(x):\n",
    "    return 1/(1+np.exp(-x))"
   ]
  },
  {
   "cell_type": "markdown",
   "metadata": {},
   "source": [
    "#### Derivada da função sigmóide"
   ]
  },
  {
   "cell_type": "code",
   "execution_count": 10,
   "metadata": {},
   "outputs": [],
   "source": [
    "def sigmoid_prime(x):\n",
    "    return sigmoid(x) * (1 - sigmoid(x))"
   ]
  },
  {
   "cell_type": "markdown",
   "metadata": {},
   "source": [
    "#### Vetor dos valores de entrada e saídas"
   ]
  },
  {
   "cell_type": "code",
   "execution_count": 11,
   "metadata": {},
   "outputs": [],
   "source": [
    "x = np.array([1, 2, 3, 4])\n",
    "y = np.array(0.5)"
   ]
  },
  {
   "cell_type": "markdown",
   "metadata": {},
   "source": [
    "#### Pesos iniciais das ligações sinápticas \n",
    "Nota: Inicializados aleatóriamente"
   ]
  },
  {
   "cell_type": "code",
   "execution_count": 12,
   "metadata": {},
   "outputs": [],
   "source": [
    "w = np.array([0.5, -0.5, 0.3, 0.1])"
   ]
  },
  {
   "cell_type": "markdown",
   "metadata": {},
   "source": [
    "#### Taxa de Aprendizagem"
   ]
  },
  {
   "cell_type": "code",
   "execution_count": 13,
   "metadata": {},
   "outputs": [],
   "source": [
    "learnrate = 0.5"
   ]
  },
  {
   "cell_type": "markdown",
   "metadata": {},
   "source": [
    "### Calcule um degrau de descida gradiente para cada peso"
   ]
  },
  {
   "cell_type": "code",
   "execution_count": 21,
   "metadata": {},
   "outputs": [],
   "source": [
    "b = -0.2\n",
    "\n",
    "# TODO: Calcule a combinação linear de entradas e pesos sinápticos\n",
    "h = np.dot(x, w)+b # dot faz o somatório de produtos\n",
    "\n",
    "# TODO: Calcule a saída da Rede Neural\n",
    "nn_output = sigmoid(h)\n",
    "\n",
    "# TODO: Calcule o erro da Rede Neural\n",
    "error = y - nn_output\n",
    "\n",
    "# TODO: Calcule o termo de erro\n",
    "error_term = error * sigmoid_prime(h)\n",
    "\n",
    "# TODO: Calcule a variação do peso\n",
    "del_w = learnrate * error_term * x"
   ]
  },
  {
   "cell_type": "code",
   "execution_count": 22,
   "metadata": {},
   "outputs": [
    {
     "output_type": "stream",
     "name": "stdout",
     "text": [
      "Saída da Rede Neural: 0.6456563062257954\nErro: -0.1456563062257954\nVariação dos pesos: [-0.01666193 -0.03332387 -0.0499858  -0.06664773]\n"
     ]
    }
   ],
   "source": [
    "print(f'Saída da Rede Neural: {nn_output}')\n",
    "print(f'Erro: {error}')\n",
    "print(f'Variação dos pesos: {del_w}')"
   ]
  },
  {
   "cell_type": "code",
   "execution_count": null,
   "metadata": {},
   "outputs": [],
   "source": []
  }
 ],
 "metadata": {
  "kernelspec": {
   "name": "python3",
   "display_name": "Python 3.8.8 64-bit ('base': conda)"
  },
  "language_info": {
   "codemirror_mode": {
    "name": "ipython",
    "version": 3
   },
   "file_extension": ".py",
   "mimetype": "text/x-python",
   "name": "python",
   "nbconvert_exporter": "python",
   "pygments_lexer": "ipython3",
   "version": "3.8.8"
  },
  "interpreter": {
   "hash": "bc48d87d6812adbcc106e5ded0c77ce0df22fce60d8efcb9ad28347fde49cea0"
  }
 },
 "nbformat": 4,
 "nbformat_minor": 2
}